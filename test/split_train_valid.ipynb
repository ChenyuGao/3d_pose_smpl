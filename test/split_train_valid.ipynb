{
 "cells": [
  {
   "cell_type": "markdown",
   "metadata": {},
   "source": [
    "# 分割训练集和验证集\n",
    "#### 注意筛选gt2d<0的帧"
   ]
  },
  {
   "cell_type": "code",
   "execution_count": 1,
   "metadata": {},
   "outputs": [],
   "source": [
    "import math, json, sys, os\n",
    "from os.path import join\n",
    "import json\n",
    "import numpy as np\n",
    "from sklearn.model_selection import train_test_split\n",
    "import pandas as pd\n",
    "from tqdm import tqdm\n",
    "from multiprocessing.dummy import Pool"
   ]
  },
  {
   "cell_type": "code",
   "execution_count": 2,
   "metadata": {},
   "outputs": [],
   "source": [
    "data_dir = '/home/windward/gcy/Golf/proj/data/SURREAL/summary'\n",
    "image_dir = os.path.join(data_dir, 'image')\n",
    "label_dir = os.path.join(data_dir, 'labels')\n",
    "split_data_dir = '/home/windward/gcy/Golf/proj/data'"
   ]
  },
  {
   "cell_type": "code",
   "execution_count": 3,
   "metadata": {
    "scrolled": true
   },
   "outputs": [
    {
     "name": "stderr",
     "output_type": "stream",
     "text": [
      "6396439it [45:44, 2330.24it/s]\n"
     ]
    }
   ],
   "source": [
    "label_files = []\n",
    "label_files_filter = []\n",
    "\n",
    "def run(label_file):\n",
    "    label_path = join(label_dir, label_file)\n",
    "    with open(label_path) as f:\n",
    "        data = json.load(f)\n",
    "    gt2d = np.array(data['joints2D']).reshape((2, 24)).T\n",
    "    min_pt = np.min(gt2d, axis=0)    # 最小的x和y\n",
    "    max_pt = np.max(gt2d, axis=0)    # 最大的x和y\n",
    "    if (min_pt[0] < 0 or max_pt[0] > 320 or min_pt[1] < 0 or max_pt[1] > 240):\n",
    "        return label_file\n",
    "    else:\n",
    "        return 0\n",
    "    \n",
    "label_files = sorted(os.listdir(label_dir))\n",
    "pool = Pool(20)    #创建n个容量的线程池并发执行\n",
    "for f in tqdm(pool.imap(run, label_files)):\n",
    "    if f != 0:\n",
    "        label_files_filter.append(f)\n",
    "    \n",
    "pool.close()\n",
    "pool.join()"
   ]
  },
  {
   "cell_type": "code",
   "execution_count": 4,
   "metadata": {},
   "outputs": [
    {
     "name": "stdout",
     "output_type": "stream",
     "text": [
      "266033\n"
     ]
    }
   ],
   "source": [
    "len(label_files_filter)"
   ]
  },
  {
   "cell_type": "code",
   "execution_count": 5,
   "metadata": {},
   "outputs": [],
   "source": [
    "# 将需要滤除的名字存入文件\n",
    "pd_t = pd.DataFrame({'name_filter': label_files_filter})['name_filter'].map(lambda x: x[:-5]).to_csv(\n",
    "    os.path.join(split_data_dir, 'names_filter.csv'), header='name_filter', index=False)"
   ]
  },
  {
   "cell_type": "code",
   "execution_count": 6,
   "metadata": {},
   "outputs": [],
   "source": [
    "names_filter = pd.read_csv(os.path.join(split_data_dir, 'names_filter.csv'))['name_filter']\n",
    "labels_all = set(os.listdir(label_dir))\n",
    "labels_filter = set(list(names_filter.map(lambda x: x + '.json')))\n",
    "labels_use = sorted(list(labels_all - labels_filter))\n",
    "images_use = [i[:-4] + 'jpg' for i in labels_use]"
   ]
  },
  {
   "cell_type": "code",
   "execution_count": 7,
   "metadata": {},
   "outputs": [
    {
     "data": {
      "text/plain": [
       "6130406"
      ]
     },
     "execution_count": 7,
     "metadata": {},
     "output_type": "execute_result"
    }
   ],
   "source": [
    "len(images_use)"
   ]
  },
  {
   "cell_type": "code",
   "execution_count": 14,
   "metadata": {},
   "outputs": [],
   "source": [
    "image_name_train = images_use[:-20000]\n",
    "image_name_valid = images_use[-20000:]\n",
    "# image_name_train, image_name_valid = train_test_split(\n",
    "#     images_names, test_size=0.1, random_state=1, shuffle=False)\n",
    "pd.DataFrame({'name': image_name_train}).to_csv(os.path.join(\n",
    "    split_data_dir, 'surreal_train_names.csv'), index=False)\n",
    "pd.DataFrame({'name': image_name_valid}).to_csv(os.path.join(\n",
    "    split_data_dir, 'surreal_valid_names.csv'), index=False)"
   ]
  },
  {
   "cell_type": "code",
   "execution_count": null,
   "metadata": {},
   "outputs": [],
   "source": []
  }
 ],
 "metadata": {
  "hide_input": false,
  "kernelspec": {
   "display_name": "Python 3",
   "language": "python",
   "name": "python3"
  },
  "language_info": {
   "codemirror_mode": {
    "name": "ipython",
    "version": 3
   },
   "file_extension": ".py",
   "mimetype": "text/x-python",
   "name": "python",
   "nbconvert_exporter": "python",
   "pygments_lexer": "ipython3",
   "version": "3.6.4"
  },
  "varInspector": {
   "cols": {
    "lenName": 16,
    "lenType": 16,
    "lenVar": 40
   },
   "kernels_config": {
    "python": {
     "delete_cmd_postfix": "",
     "delete_cmd_prefix": "del ",
     "library": "var_list.py",
     "varRefreshCmd": "print(var_dic_list())"
    },
    "r": {
     "delete_cmd_postfix": ") ",
     "delete_cmd_prefix": "rm(",
     "library": "var_list.r",
     "varRefreshCmd": "cat(var_dic_list()) "
    }
   },
   "types_to_exclude": [
    "module",
    "function",
    "builtin_function_or_method",
    "instance",
    "_Feature"
   ],
   "window_display": false
  }
 },
 "nbformat": 4,
 "nbformat_minor": 2
}
