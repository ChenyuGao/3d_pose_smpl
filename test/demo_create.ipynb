{
 "cells": [
  {
   "cell_type": "code",
   "execution_count": 2,
   "metadata": {},
   "outputs": [],
   "source": [
    "import numpy as np\n",
    "import pandas as pd\n",
    "import os"
   ]
  },
  {
   "cell_type": "code",
   "execution_count": 3,
   "metadata": {},
   "outputs": [],
   "source": [
    "train_names = pd.read_csv('../../data/surreal_train_names.csv')['name'].values\n",
    "valid_names = pd.read_csv('../../data/surreal_valid_names.csv')['name'].values"
   ]
  },
  {
   "cell_type": "code",
   "execution_count": 13,
   "metadata": {},
   "outputs": [],
   "source": [
    "train_1 = train_names[0:100]\n",
    "train_2 = train_names[100:200]\n",
    "train_3 = train_names[499:599]\n",
    "valid_1 = valid_names[13:113]"
   ]
  },
  {
   "cell_type": "code",
   "execution_count": 24,
   "metadata": {},
   "outputs": [],
   "source": [
    "image_path = '../../data/SURREAL/summary/image/'\n",
    "label_path = '../../data/SURREAL/summary/labels/'\n",
    "demo_image_path = '../demo/image/'\n",
    "demo_label_path = '../demo/label/'\n",
    "demo_out_path = '../demo/out/'\n",
    "demo_smpl_path = '../demo/smpl_param/'\n",
    "if not os.path.exists(demo_image_path):\n",
    "    os.makedirs(demo_image_path)\n",
    "if not os.path.exists(demo_label_path):\n",
    "    os.makedirs(demo_label_path)\n",
    "if not os.path.exists(demo_out_path):\n",
    "    os.makedirs(demo_out_path)\n",
    "if not os.path.exists(demo_smpl_path):\n",
    "    os.makedirs(demo_smpl_path)"
   ]
  },
  {
   "cell_type": "code",
   "execution_count": 27,
   "metadata": {},
   "outputs": [],
   "source": [
    "if not os.path.exists(os.path.join(demo_image_path, 'train_1')):\n",
    "    os.makedirs(os.path.join(demo_image_path, 'train_1'))\n",
    "    os.makedirs(os.path.join(demo_image_path, 'train_2'))\n",
    "    os.makedirs(os.path.join(demo_image_path, 'train_3'))\n",
    "    os.makedirs(os.path.join(demo_image_path, 'valid_1'))\n",
    "    os.makedirs(os.path.join(demo_image_path, '../out/train_1_pre'))\n",
    "    os.makedirs(os.path.join(demo_image_path, '../out/train_2_pre'))\n",
    "    os.makedirs(os.path.join(demo_image_path, '../out/train_3_pre'))\n",
    "    os.makedirs(os.path.join(demo_image_path, '../out/valid_1_pre'))\n",
    "    os.makedirs(os.path.join(demo_image_path, '../out/train_1_label'))\n",
    "    os.makedirs(os.path.join(demo_image_path, '../out/train_2_label'))\n",
    "    os.makedirs(os.path.join(demo_image_path, '../out/train_3_label'))\n",
    "    os.makedirs(os.path.join(demo_image_path, '../out/valid_1_label'))\n",
    "    os.makedirs(os.path.join(demo_image_path, '../label/train_1'))\n",
    "    os.makedirs(os.path.join(demo_image_path, '../label/train_2'))\n",
    "    os.makedirs(os.path.join(demo_image_path, '../label/train_3'))\n",
    "    os.makedirs(os.path.join(demo_image_path, '../label/valid_1'))\n",
    "    os.makedirs(os.path.join(demo_image_path, '../smpl_param/train_1'))\n",
    "    os.makedirs(os.path.join(demo_image_path, '../smpl_param/train_2'))\n",
    "    os.makedirs(os.path.join(demo_image_path, '../smpl_param/train_3'))\n",
    "    os.makedirs(os.path.join(demo_image_path, '../smpl_param/valid_1'))"
   ]
  },
  {
   "cell_type": "code",
   "execution_count": 25,
   "metadata": {},
   "outputs": [],
   "source": [
    "for demo in train_1:\n",
    "    ori_demo_path = os.path.join(image_path, demo)\n",
    "    tar_demo_path = os.path.join(demo_image_path, 'train_1', demo)\n",
    "    ori_label_path = os.path.join(label_path, demo[:-3]+'json')\n",
    "    tar_label_path = os.path.join(demo_label_path, 'train_1', demo[:-3]+'json')\n",
    "    os.system('cp {} {}'.format(ori_demo_path, tar_demo_path))\n",
    "    os.system('cp {} {}'.format(ori_label_path, tar_label_path))\n",
    "for demo in train_2:\n",
    "    ori_demo_path = os.path.join(image_path, demo)\n",
    "    tar_demo_path = os.path.join(demo_image_path, 'train_2', demo)\n",
    "    ori_label_path = os.path.join(label_path, demo[:-3]+'json')\n",
    "    tar_label_path = os.path.join(demo_label_path, 'train_2', demo[:-3]+'json')\n",
    "    os.system('cp {} {}'.format(ori_demo_path, tar_demo_path))\n",
    "    os.system('cp {} {}'.format(ori_label_path, tar_label_path))\n",
    "for demo in train_3:\n",
    "    ori_demo_path = os.path.join(image_path, demo)\n",
    "    tar_demo_path = os.path.join(demo_image_path, 'train_3', demo)\n",
    "    ori_label_path = os.path.join(label_path, demo[:-3]+'json')\n",
    "    tar_label_path = os.path.join(demo_label_path, 'train_3', demo[:-3]+'json')\n",
    "    os.system('cp {} {}'.format(ori_demo_path, tar_demo_path))\n",
    "    os.system('cp {} {}'.format(ori_label_path, tar_label_path))\n",
    "for demo in valid_1:\n",
    "    ori_demo_path = os.path.join(image_path, demo)\n",
    "    tar_demo_path = os.path.join(demo_image_path, 'valid_1', demo)\n",
    "    ori_label_path = os.path.join(label_path, demo[:-3]+'json')\n",
    "    tar_label_path = os.path.join(demo_label_path, 'valid_1', demo[:-3]+'json')\n",
    "    os.system('cp {} {}'.format(ori_demo_path, tar_demo_path))\n",
    "    os.system('cp {} {}'.format(ori_label_path, tar_label_path))"
   ]
  },
  {
   "cell_type": "code",
   "execution_count": null,
   "metadata": {},
   "outputs": [],
   "source": []
  },
  {
   "cell_type": "code",
   "execution_count": null,
   "metadata": {},
   "outputs": [],
   "source": []
  }
 ],
 "metadata": {
  "hide_input": false,
  "kernelspec": {
   "display_name": "Python 3",
   "language": "python",
   "name": "python3"
  },
  "language_info": {
   "codemirror_mode": {
    "name": "ipython",
    "version": 3
   },
   "file_extension": ".py",
   "mimetype": "text/x-python",
   "name": "python",
   "nbconvert_exporter": "python",
   "pygments_lexer": "ipython3",
   "version": "3.6.4"
  },
  "varInspector": {
   "cols": {
    "lenName": 16,
    "lenType": 16,
    "lenVar": 40
   },
   "kernels_config": {
    "python": {
     "delete_cmd_postfix": "",
     "delete_cmd_prefix": "del ",
     "library": "var_list.py",
     "varRefreshCmd": "print(var_dic_list())"
    },
    "r": {
     "delete_cmd_postfix": ") ",
     "delete_cmd_prefix": "rm(",
     "library": "var_list.r",
     "varRefreshCmd": "cat(var_dic_list()) "
    }
   },
   "types_to_exclude": [
    "module",
    "function",
    "builtin_function_or_method",
    "instance",
    "_Feature"
   ],
   "window_display": false
  }
 },
 "nbformat": 4,
 "nbformat_minor": 2
}
